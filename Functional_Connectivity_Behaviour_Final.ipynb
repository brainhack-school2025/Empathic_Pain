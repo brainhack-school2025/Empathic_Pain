{
 "cells": [
  {
   "cell_type": "code",
   "execution_count": null,
   "id": "f030d0cb",
   "metadata": {},
   "outputs": [],
   "source": [
    "## This code is for running the following linear regression models: \n",
    "#Loneliness ~ functional connectivity (roi-to-roi pair) in run 1 + covariates (age + sex + condition)​\n",
    "#Loneliness ~ functional connectivity (roi-to-roi pair) in run 2 + covariates (age + sex + condition)​\n",
    "#Social connectedness ~ functional connectivity (roi-to-roi pair) in run 1 + covariates (age + sex + condition) ​\n",
    "#Social connectedness ~ functional connectivity (roi-to-roi pair) in run 2 + covariates (age + sex + condition) "
   ]
  },
  {
   "cell_type": "code",
   "execution_count": null,
   "id": "efc3aa8f",
   "metadata": {},
   "outputs": [],
   "source": [
    "##required imports"
   ]
  },
  {
   "cell_type": "code",
   "execution_count": null,
   "id": "131a40b2",
   "metadata": {},
   "outputs": [],
   "source": [
    "#Path on your device with all subjects' individual connectivity matrices  \n",
    "connectivity_dir_all = '/path/to/all/functional_connectivity_matrices' ##directory with all participants' functional connectivity matrices \n",
    "\n",
    "#grab all of the .csv files (the connectivity matrices) in that directory \n",
    "connectivity_files_all = sorted(glob.glob(os.path.join(connectivity_dir_all, '*.csv')))"
   ]
  },
  {
   "cell_type": "code",
   "execution_count": null,
   "id": "fb98c2d3",
   "metadata": {},
   "outputs": [],
   "source": [
    "# loading all of the functional connectivity matrices (69x69 ROI-to-ROI, 2 per subject (run 1 and run 2)) into a single 3D NumPy array for analysis \n",
    "all_matrices = [pd.read_csv(f).values for f in connectivity_files_all]\n",
    "all_connectivity_group = np.stack(all_matrices)  #takes the matrices and stacks them into a single 3D NumPy array of shape "
   ]
  },
  {
   "cell_type": "code",
   "execution_count": null,
   "id": "3a524ba7",
   "metadata": {},
   "outputs": [],
   "source": [
    "#Vectorize connectivity matrices \n",
    "#converting each 69x69 matrix into a 1D vector of unique connections, obtaining a feature vector for each subject\n",
    "\n",
    "import numpy as np \n",
    "\n",
    "def vectorize_connectivity(matrices):\n",
    "    n_subjects, n_rois, _ = matrices.shape\n",
    "    triu_idx = np.triu_indices(n_rois, k=1)  # indices of upper triangle without diagonal\n",
    "    n_edges = len(triu_idx[0])\n",
    "\n",
    "    X = np.zeros((n_subjects, n_edges))\n",
    "    for i in range(n_subjects):\n",
    "        X[i] = matrices[i][triu_idx]\n",
    "    return X, triu_idx\n",
    "\n",
    "X, triu_idx = vectorize_connectivity(all_connectivity_group)\n",
    "print('Shape of feature matrix X:', X.shape)  # (N_subjects, 2346)"
   ]
  },
  {
   "cell_type": "code",
   "execution_count": null,
   "id": "0c1442b5",
   "metadata": {},
   "outputs": [],
   "source": [
    "##splitting the vectors by run (run 1 is self, run 2 is other)\n",
    "run1_indices = np.arange(0, X.shape[0], 2)  # 0, 2, 4, ...\n",
    "run2_indices = np.arange(1, X.shape[0], 2)  # 1, 3, 5, ...\n",
    "\n",
    "X_run1 = X[run1_indices]\n",
    "X_run2 = X[run2_indices]"
   ]
  },
  {
   "cell_type": "code",
   "execution_count": null,
   "id": "e4e00177",
   "metadata": {},
   "outputs": [],
   "source": [
    "##loading in the behavioural data (i.e., the spreadsheet)\n",
    "behaviour_df = pd.read_csv('/insert/your/path/to/Dataset.csv') #\"Dataset.csv\" is the spreadsheet containing the behavioural data (ex. loneliness, connectedness sum scores)\n",
    "behaviour_df = behaviour_df.iloc[0:54] #keeping the first 55 rows that have the behavioural data for each participant"
   ]
  },
  {
   "cell_type": "code",
   "execution_count": null,
   "id": "6fbd2543",
   "metadata": {},
   "outputs": [],
   "source": [
    "##preparing outcomes of interest and covariates \n",
    "#behaviour vector\n",
    "#just using loneliness_sum_T1 as a test for dependent variable\n",
    "loneliness_sum_T1 = behaviour_df['loneliness_sum_T1'].values\n",
    "\n",
    "#covariates \n",
    "covariates = pd.get_dummies(behaviour_df[['age', 'Sex', 'condition']], drop_first=True)"
   ]
  },
  {
   "cell_type": "code",
   "execution_count": null,
   "id": "c6bf1fc6",
   "metadata": {},
   "outputs": [],
   "source": [
    "import numpy as np\n",
    "import statsmodels.api as sm\n",
    "from statsmodels.stats.multitest import multipletests\n",
    "\n",
    "#Below, I am defining the linear regression function that I will be using \n",
    "#X_run (x, independent variable) and loneliness_sum_T1 (y, dependent variable) are just like placeholders;\n",
    "#you can specify any x or y (ex. x = run 1 or run 2, and/or y = loneliness or social connectedness) later on\n",
    "def run_featurewise_regression_with_covariates(X_run, loneliness_sum_T1, covariates):\n",
    "    betas = []\n",
    "    tstats = []\n",
    "    pvals = []\n",
    "    #convert y (loneliness_sum_T1) to numeric numpy array (float)\n",
    "    if isinstance(loneliness_sum_T1, (pd.Series, pd.DataFrame)):\n",
    "        loneliness_sum_T1_numeric = pd.to_numeric(loneliness_sum_T1, errors='coerce').values.astype(float)\n",
    "    else:\n",
    "        loneliness_sum_T1_numeric = np.array(loneliness_sum_T1, dtype=float)\n",
    "    \n",
    "    #convert covariates to numeric dummy variables (if needed) and then numpy float array \n",
    "    #ensure covariates is a NumPy array \n",
    "    if isinstance(covariates, pd.DataFrame):\n",
    "        covariates_numeric = pd.get_dummies(covariates, drop_first=True)\n",
    "        covariates_array = covariates_numeric.values.astype(float)\n",
    "    else:\n",
    "        covariates_array = np.array(covariates, dtype=float)\n",
    "\n",
    "    # Ensure connectivity matrix is float\n",
    "    X_run = X_run.astype(float)\n",
    "    \n",
    "    for i in range(X_run.shape[1]):\n",
    "        #stack current connectivity feature with covariates\n",
    "        Xi = np.column_stack((X_run[:, i], covariates_array))\n",
    "        Xi = sm.add_constant(Xi) #adds intercept term\n",
    "\n",
    "        #fit regression model: Loneliness ~ connectivity feature + covariates\n",
    "        #ordinary least squares regression model \n",
    "        model = sm.OLS(loneliness_sum_T1, Xi).fit()\n",
    "\n",
    "        #extract beta and p-value for connectivity feature (index 1 after constant)\n",
    "        betas.append(model.params[1])    # coefficient for connectivity feature\n",
    "        tstats.append(model.tvalues[1])\n",
    "        pvals.append(model.pvalues[1])   # p-value for connectivity feature\n",
    "\n",
    "    return np.array(betas), np.array(tstats), np.array(pvals)"
   ]
  },
  {
   "cell_type": "code",
   "execution_count": null,
   "id": "c6b3e5b6",
   "metadata": {},
   "outputs": [],
   "source": [
    "##here, we are calling upon all the ROIs (cortical and subcortical) in the harvard_oxford atlas,\n",
    "##which was originally used to create our functional connectivity matrices\n",
    "cort = datasets.fetch_atlas_harvard_oxford('cort-maxprob-thr25-2mm')\n",
    "sub = datasets.fetch_atlas_harvard_oxford('sub-maxprob-thr25-2mm')\n",
    "\n",
    "cort_labels = cort.labels[1:]\n",
    "sub_labels = sub.labels[1:]\n",
    "atlas_labels = cort_labels + sub_labels\n",
    "\n",
    "print(f\"Total ROI labels: {len(atlas_labels)}\")"
   ]
  },
  {
   "cell_type": "code",
   "execution_count": null,
   "id": "4c00d744",
   "metadata": {},
   "outputs": [],
   "source": [
    "##In total, each connectivity matrix has 69 ROIs (69 x 69)\n",
    "##Here, we are extracting a list of the roi pairs (ex. (ROI 1, ROI2))\n",
    "n_rois = len(atlas_labels)\n",
    "roi_pairs = []\n",
    "\n",
    "# Get upper triangle indices (exclude diagonal)\n",
    "triu_indices = np.triu_indices(n_rois, k=1)\n",
    "\n",
    "for idx in range(len(triu_indices[0])):\n",
    "    i = triu_indices[0][idx]\n",
    "    j = triu_indices[1][idx]\n",
    "    roi_pairs.append((atlas_labels[i], atlas_labels[j]))"
   ]
  },
  {
   "cell_type": "code",
   "execution_count": null,
   "id": "7eca518c",
   "metadata": {},
   "outputs": [],
   "source": [
    "#Our ROI paits of interest are ones that contain either the 'Insula' or 'Cingulate' as one of the pairs\n",
    "#(based on prior research, functional connectivity between the insula and the cingulate cortex with other brain regions is implicated in self and empathic pain)\n",
    "#so we want to select specifically for roi pairs that contain either 'Insula' or 'Cingulate'\n",
    "selected_pairs = [\n",
    "    pair for pair in roi_pairs\n",
    "    if ('Insula' in pair[0] or 'Cingulate' in pair[0] or ('Insula' in pair[1] or 'Cingulate' in pair[1]))\n",
    "]\n",
    "\n",
    "print(f\"Number of ROI pairs with 'Insula' or 'Cingulate': {len(selected_pairs)}\")\n",
    "\n",
    "# Indices of selected_pairs in roi_pairs as well:\n",
    "selected_indices = [\n",
    "    idx for idx, pair in enumerate(roi_pairs)\n",
    "    if ('Insula' in pair[0] or 'Cingulate' in pair[0]) or ('Insula' in pair[1] or 'Cingulate' in pair[1])\n",
    "]\n",
    "\n",
    "for idx in selected_indices:\n",
    "    print(f\"Index: {idx}, ROI Pair: {roi_pairs[idx]}\")"
   ]
  },
  {
   "cell_type": "code",
   "execution_count": null,
   "id": "16c69e9a",
   "metadata": {},
   "outputs": [],
   "source": [
    "#Subset run-specific data to only include selected ROI pairs \n",
    "#Now, we are subsetting our dataframe, so that only the functional connectivity measures of those selected ROI pairs \n",
    "#are included in our linear regression models \n",
    "X_run1_subset = X_run1[:, selected_indices]\n",
    "X_run2_subset = X_run2[:, selected_indices]"
   ]
  },
  {
   "cell_type": "code",
   "execution_count": null,
   "id": "634fb24f",
   "metadata": {},
   "outputs": [],
   "source": [
    "##Now, calling upon our behaviour scores of interest (Loneliness and Connectedness) from our behaviour dataframe \n",
    "Loneliness_sumT2 = behaviour_df['Loneliness_sumT2'].values\n",
    "Connectedness_sum_T2 = behaviour_df['Connectedness_sum_T2'].values"
   ]
  },
  {
   "cell_type": "code",
   "execution_count": null,
   "id": "3dde6253",
   "metadata": {},
   "outputs": [],
   "source": [
    "#Running linear regressions with loneliness as dependent variable: \n",
    "# Loneliness ~ functional connectivity (roi-to-roi pair) in run 1 + covariates (age + sex + condition)\n",
    "betas_run1_loneliness_T2, tstats_run1_loneliness_T2, pvals_run1_loneliness_T2 = run_featurewise_regression_with_covariates(\n",
    "    X_run1_subset, Loneliness_sumT2, covariates\n",
    ")\n",
    "\n",
    "#Loneliness ~ functional connectivity (roi-to-roi pair) in run 2 + covariates (age + sex + condition)\n",
    "betas_run2_loneliness_T2, tstats_run2_loneliness_T2, pvals_run2_loneliness_T2 = run_featurewise_regression_with_covariates(\n",
    "    X_run2_subset, Loneliness_sumT2, covariates\n",
    ")"
   ]
  },
  {
   "cell_type": "code",
   "execution_count": null,
   "id": "ebc4d76c",
   "metadata": {},
   "outputs": [],
   "source": [
    "#Running linear regressions with social connectedness as the dependent variable:\n",
    "#Social connectedness ~ functional connectivity (roi-to-roi pair) in run 1 + covariates (age + sex + condition) \n",
    "betas_run1_connectedness_T2, tstats_run1_connectedness_T2, pvals_run1_connectedness_T2 = run_featurewise_regression_with_covariates(\n",
    "    X_run1_subset, Connectedness_sum_T2, covariates\n",
    ")\n",
    "\n",
    "#Social connectedness ~ functional connectivity (roi-to-roi pair) in run 2 + covariates (age + sex + condition) \n",
    "betas_run2_connectedness_T2, tstats_run2_connectedness_T2, pvals_run2_connectedness_T2 = run_featurewise_regression_with_covariates(\n",
    "    X_run2_subset, Connectedness_sum_T2, covariates\n",
    ")"
   ]
  },
  {
   "cell_type": "code",
   "execution_count": null,
   "id": "07c4f20a",
   "metadata": {},
   "outputs": [],
   "source": [
    "#Storing the results for linear regressions (loneliness as dependent variable) in a dataframe\n",
    "results_run1_loneliness_T2 = pd.DataFrame({\n",
    "    'roi_pair': roi_pair_names,\n",
    "    'beta': betas_run1_loneliness_T2,\n",
    "    't_stat': tstats_run1_loneliness_T2,\n",
    "    'p_value': pvals_run1_loneliness_T2\n",
    "})\n",
    "\n",
    "results_run2_loneliness_T2 = pd.DataFrame({\n",
    "    'roi_pair': roi_pair_names,\n",
    "    'beta': betas_run2_loneliness_T2,\n",
    "    't_stat': tstats_run2_loneliness_T2,\n",
    "    'p_value': pvals_run2_loneliness_T2\n",
    "})"
   ]
  },
  {
   "cell_type": "code",
   "execution_count": null,
   "id": "a3190f64",
   "metadata": {},
   "outputs": [],
   "source": [
    "#Storing results for linear regressions (social connectedness as dependent variable) in a dataframe\n",
    "results_run1_connectedness_T2 = pd.DataFrame({\n",
    "    'roi_pair': roi_pair_names,\n",
    "    'beta': betas_run1_connectedness_T2,\n",
    "    't_stat': tstats_run1_connectedness_T2,\n",
    "    'p_value': pvals_run1_connectedness_T2\n",
    "})\n",
    "\n",
    "results_run2_connectedness_T2 = pd.DataFrame({\n",
    "    'roi_pair': roi_pair_names,\n",
    "    'beta': betas_run2_connectedness_T2,\n",
    "    't_stat': tstats_run2_connectedness_T2,\n",
    "    'p_value': pvals_run2_connectedness_T2\n",
    "})"
   ]
  },
  {
   "cell_type": "code",
   "execution_count": null,
   "id": "17d31eb8",
   "metadata": {},
   "outputs": [],
   "source": [
    "##Saving Results  \n",
    "results_run1_loneliness_T2.to_csv(\"/path/to/where/you/want/to/save/your/results/results_run1_loneliness_T2.csv\")\n",
    "results_run2_loneliness_T2.to_csv(\"/path/to/where/you/want/to/save/your/results/results_run2_loneliness_T2.csv\")\n",
    "results_run1_connectedness_T2.to_csv(\"/path/to/where/you/want/to/save/your/results/results_run1_connectedness_T2.csv\")\n",
    "results_run2_connectedness_T2.to_csv(\"/path/to/where/you/want/to/save/your/results/results_run2_connectedness_T2.csv\")"
   ]
  }
 ],
 "metadata": {
  "language_info": {
   "name": "python"
  }
 },
 "nbformat": 4,
 "nbformat_minor": 5
}
